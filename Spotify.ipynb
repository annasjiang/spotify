{
  "nbformat": 4,
  "nbformat_minor": 0,
  "metadata": {
    "colab": {
      "name": "Spotify.ipynb",
      "provenance": [],
      "collapsed_sections": []
    },
    "kernelspec": {
      "name": "python3",
      "display_name": "Python 3"
    },
    "language_info": {
      "name": "python"
    }
  },
  "cells": [
    {
      "cell_type": "code",
      "metadata": {
        "id": "PT7cfzz7_o5o"
      },
      "source": [
        "#CIS 545 FINAL PROJECT : SPOTIFY"
      ],
      "execution_count": null,
      "outputs": []
    },
    {
      "cell_type": "markdown",
      "metadata": {
        "id": "T33Jrr6-A610"
      },
      "source": [
        "hello friends\n"
      ]
    },
    {
      "cell_type": "code",
      "metadata": {
        "id": "9-ZpCjCFA8Hn"
      },
      "source": [
        ""
      ],
      "execution_count": null,
      "outputs": []
    }
  ]
}