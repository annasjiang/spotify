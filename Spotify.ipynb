{
  "cells": [
    {
      "cell_type": "code",
      "execution_count": null,
      "metadata": {
        "id": "PT7cfzz7_o5o"
      },
      "outputs": [],
      "source": [
        "#CIS 545 FINAL PROJECT : SPOTIFY\n",
        "\n",
        "#yuh"
      ]
    },
    {
      "cell_type": "markdown",
      "metadata": {
        "id": "T33Jrr6-A610"
      },
      "source": [
        "hello friends\n"
      ]
    },
    {
      "cell_type": "code",
      "execution_count": null,
      "metadata": {
        "id": "9-ZpCjCFA8Hn"
      },
      "outputs": [],
      "source": []
    }
  ],
  "metadata": {
    "colab": {
      "collapsed_sections": [],
      "name": "Spotify.ipynb",
      "provenance": []
    },
    "kernelspec": {
      "display_name": "Python 3",
      "name": "python3"
    },
    "language_info": {
      "name": "python"
    }
  },
  "nbformat": 4,
  "nbformat_minor": 0
}
